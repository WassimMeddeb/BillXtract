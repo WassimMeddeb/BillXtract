{
 "cells": [
  {
   "cell_type": "code",
   "execution_count": 2,
   "id": "fc9764fd",
   "metadata": {},
   "outputs": [],
   "source": [
    "import cv2\n",
    "import pytesseract\n",
    "#import csv\n",
    "import numpy as np\n",
    "import pandas as pd\n",
    "from ultralytics import YOLO\n",
    "import textract\n",
    "#from PIL import Image\n",
    "import matplotlib.pyplot as plt\n",
    "import keras_ocr\n",
    "import Levenshtein\n",
    "from skimage.filters import threshold_local\n",
    "import easyocr"
   ]
  },
  {
   "cell_type": "code",
   "execution_count": 3,
   "id": "24011ba9",
   "metadata": {},
   "outputs": [
    {
     "name": "stdout",
     "output_type": "stream",
     "text": [
      "Looking for C:\\Users\\Flam\\.keras-ocr\\craft_mlt_25k.h5\n",
      "WARNING:tensorflow:From C:\\Users\\Flam\\AppData\\Roaming\\Python\\Python39\\site-packages\\tensorflow\\python\\ops\\array_ops.py:5043: calling gather (from tensorflow.python.ops.array_ops) with validate_indices is deprecated and will be removed in a future version.\n",
      "Instructions for updating:\n",
      "The `validate_indices` argument has no effect. Indices are always validated on CPU and never validated on GPU.\n",
      "Looking for C:\\Users\\Flam\\.keras-ocr\\crnn_kurapan.h5\n"
     ]
    }
   ],
   "source": [
    "text_reader = easyocr.Reader(['en']) #Initialzing the ocr\n",
    "config = f'--psm 6'\n",
    "pipeline = keras_ocr.pipeline.Pipeline()"
   ]
  },
  {
   "cell_type": "code",
   "execution_count": 4,
   "id": "26ce34e7",
   "metadata": {},
   "outputs": [],
   "source": [
    "def bw_scanner(image):\n",
    "    gray = cv2.cvtColor(image, cv2.COLOR_BGR2GRAY)\n",
    "    T = threshold_local(gray, 21, offset = 5, method = \"gaussian\")\n",
    "    return (gray > T).astype(\"uint8\") * 255\n",
    "#function to enhance the contrast of image for better ocr result\n",
    "def enhance(im):\n",
    "    img1 = cv2.imread(im)\n",
    "    img = bw_scanner(img1)\n",
    "    # converting to LAB color space\n",
    "    img=cv2.cvtColor(img,cv2.COLOR_GRAY2BGR)\n",
    "    lab= cv2.cvtColor(img, cv2.COLOR_BGR2LAB)\n",
    "    l_channel, a, b = cv2.split(lab)\n",
    "\n",
    "    # Applying CLAHE to L-channel\n",
    "    # feel free to try different values for the limit and grid size:\n",
    "    clahe = cv2.createCLAHE(clipLimit=2.0, tileGridSize=(9,9))\n",
    "    cl = clahe.apply(l_channel)\n",
    "\n",
    "    # merge the CLAHE enhanced L-channel with the a and b channel\n",
    "    limg = cv2.merge((cl,a,b))\n",
    "\n",
    "    # Converting image from LAB Color model to BGR color spcae\n",
    "    enhanced_img = cv2.cvtColor(limg, cv2.COLOR_LAB2BGR)\n",
    "\n",
    "    # Stacking the original image with the enhanced image\n",
    "    #result = np.hstack((img, enhanced_img))\n",
    "    #cv2.imshow('Result', result)\n",
    "    #cv2.waitKey(0)\n",
    "    return enhanced_img"
   ]
  },
  {
   "cell_type": "code",
   "execution_count": 5,
   "id": "f5705616",
   "metadata": {},
   "outputs": [],
   "source": [
    "# extracting bounding boxes cordinates and their labels\n",
    "def boxes_labels(results,x,y,h,w,c):\n",
    "    bbox=results[0].boxes.boxes\n",
    "    bbox=bbox.cpu().numpy()\n",
    "    boxes=results[0].boxes.xyxy\n",
    "    for i,box in enumerate(boxes):\n",
    "        box=box.cpu().numpy()\n",
    "        print(\"fragment \",i,\" :\",box)\n",
    "        x.append(int(box[0]))\n",
    "        y.append(int(box[1]))\n",
    "        h.append(int(box[3]-y[i]))\n",
    "        w.append(int(box[2]-x[i]))\n",
    "        c.append(bbox[i][5])"
   ]
  },
  {
   "cell_type": "code",
   "execution_count": 6,
   "id": "7c55df02",
   "metadata": {},
   "outputs": [],
   "source": [
    "#storing ROIs in a liste\n",
    "def crop_image(x,y,h,w):\n",
    "    cropped=[]\n",
    "    for (X,Y,H,W) in zip(x,y,h,w):\n",
    "        cropped.append(img[Y:Y+H, X:X+W])\n",
    "    print(\"cropped images: \",len(cropped))\n",
    "    return (cropped)"
   ]
  },
  {
   "cell_type": "code",
   "execution_count": 7,
   "id": "883254ce",
   "metadata": {},
   "outputs": [],
   "source": [
    "#to avoid the presence of multi instance from classes\n",
    "def singilarity(cropped,c,classes,images):\n",
    "   # images=[]\n",
    "    for (img,C) in zip(cropped,c):\n",
    "        try:\n",
    "            i=classes.index(C)\n",
    "        except:\n",
    "            i=-1\n",
    "        if i<0 :\n",
    "            classes.append(C)\n",
    "            images.append(img)\n",
    "        else :\n",
    "            if len(img)>len(images[i]) :\n",
    "                images[i]=img\n",
    "    print('number of images:',len(images),'number of classes',len(classes))\n",
    "            "
   ]
  },
  {
   "cell_type": "code",
   "execution_count": 93,
   "id": "14c157a5",
   "metadata": {},
   "outputs": [],
   "source": [
    "#cleaning strings\n",
    "def strip_string(my_string):\n",
    "    replacements = [('!', ''), ('?', ''),('|',''),(\"[\",\"\"),(\"]\",\"\"),('\\\\',\"\"),('\\r',''),('\\'',''),('.',''),('',''),(\"\\u200f\",\"\"),(\"\\u200e\",\"\"),(\"{\",\"\"),(\"}\",\"\"),(\"%\",\"\"),(\"~\",\"\"),(\",\",\".\"),(':','.'),(\";\",\".\"),('°',''),('+',''),('(',''),(')','')]\n",
    "    for char, replacement in replacements:\n",
    "        if char in my_string:\n",
    "            my_string = my_string.replace(char, replacement)\n",
    "    return my_string\n",
    "\n",
    "def prepare(my_string,flag):\n",
    "    tmp=strip_string(my_string)\n",
    "    tmp=tmp.split(\"\\n\")\n",
    "    while(\"\" in tmp):\n",
    "        tmp.remove(\"\")\n",
    "    return(tmp)\n",
    "\n",
    "def remove_substring_except_last(string, substring):\n",
    "    # Replace all occurrences of the substring except the last one with an empty string\n",
    "    new_string = string.replace(substring, \"\", string.count(substring)-1)\n",
    "    # Split the string at the last occurrence of the substring\n",
    "    parts = new_string.rsplit(substring, 1)\n",
    "    # Join the parts back together with the substring\n",
    "    return substring.join(parts)\n",
    "\n",
    "def reglage_montant(money):\n",
    "    for i in range(len(money)):\n",
    "        money[i]=remove_substring_except_last(money[i],'.')\n",
    "    return (money)\n",
    "\n",
    "def get_numbers(test_string):\n",
    "    letter = [x for x in test_string]\n",
    "    res = [i for i in letter if (i.isdigit() or i=='.')]\n",
    "    result=''.join(res)\n",
    "    if (len(result)>0):\n",
    "        return result\n",
    "    else:\n",
    "        return (test_string)\n",
    "def containsNumber(value):\n",
    "    for character in value:\n",
    "        if character.isdigit():\n",
    "            return True\n",
    "    return False\n",
    "def number_correction(string):\n",
    "    corrected=[]\n",
    "    replacements = [(\"Q\",\"0\"),(\"p\",\"0\"),(\"q\",\"0\"),(\"d\",\"0\"),(\"o\",\"0\"),(\"O\",\"0\"),('I','1'),('z','2'),('Z','2'),('a','3'),(\" \",\"\"),(\"B\",\"8\")]\n",
    "    X=string.split(\" \")\n",
    "    for i in X:\n",
    "        letters=i\n",
    "        for char, replacement in replacements:\n",
    "            if char in letters:\n",
    "                letters = letters.replace(char, replacement)\n",
    "        corrected.append(letters)\n",
    "    ss=\" \".join(corrected)\n",
    "    return (ss)"
   ]
  },
  {
   "cell_type": "code",
   "execution_count": 94,
   "id": "b5d9876f",
   "metadata": {},
   "outputs": [],
   "source": [
    "#Return the best result from three ocr results\n",
    "def best_res(string1,string2,string3,maxi_letters=False):\n",
    "    empty=0\n",
    "    for x in [string1,string2,string3]:\n",
    "        if x =='':\n",
    "            empty+=1\n",
    "        else:\n",
    "            unique=x\n",
    "    if empty==3:\n",
    "        return \"0\";\n",
    "    if empty==2:\n",
    "        return unique\n",
    "    # Define the three OCR strings\n",
    "    flag=False\n",
    "    if (string1==''):\n",
    "        flag=True\n",
    "        #string1='0123456789.-'\n",
    "    if(string2==''):\n",
    "        if (flag==True):\n",
    "            flag=False\n",
    "            string2='0123456789.-'\n",
    "    if(string3==''):\n",
    "        if (flag==True):\n",
    "            flag=False\n",
    "            string3='0123456789.-'\n",
    "    ocr_strings = [string1,string2,string3]\n",
    "    #print('st1:',string1,'st2:',string2,'st3:',string3)\n",
    "    # Calculate the average Levenshtein distance between each OCR string and the other two strings\n",
    "    avg_distances = []\n",
    "    for i in range(len(ocr_strings)):\n",
    "        total_distance = 0\n",
    "        for j in range(len(ocr_strings)):\n",
    "            if i != j:\n",
    "                total_distance += Levenshtein.distance(ocr_strings[i], ocr_strings[j])\n",
    "        avg_distance = total_distance / 2\n",
    "        avg_distances.append(avg_distance)\n",
    "    if(maxi_letters==True):\n",
    "        ind=unique_long(ocr_strings)\n",
    "        if(ind>-1):\n",
    "            avg_distances[ind]=avg_distances[ind]-2\n",
    "\n",
    "    # Determine the most accurate result based on the average distances\n",
    "    #if min(avg_distances) < 4:\n",
    "    index = avg_distances.index(min(avg_distances))\n",
    "    if len(ocr_strings[index])>0:\n",
    "        return (ocr_strings[index])\n",
    "    else:\n",
    "        return('error')\n",
    "    #else:\n",
    "        #return ('not reliable')\n"
   ]
  },
  {
   "cell_type": "code",
   "execution_count": 18,
   "id": "9fcf301e",
   "metadata": {},
   "outputs": [],
   "source": [
    "def divide_image(im):\n",
    "    image = cv2.imread(im)\n",
    "\n",
    "    height, width = image.shape[:2]\n",
    "    midpoint = width // 2\n",
    "\n",
    "    left_image = image[:, :midpoint].copy()\n",
    "    right_image = image[:, midpoint:].copy()\n",
    "    return([left_image,right_image])"
   ]
  },
  {
   "cell_type": "code",
   "execution_count": 10,
   "id": "936085ee",
   "metadata": {},
   "outputs": [],
   "source": [
    "def easy_oc(image):\n",
    "    results = text_reader.readtext(image )\n",
    "    textt=[]\n",
    "    for (bbox, text, prob) in results:\n",
    "        textt.append(text)\n",
    "    easy_res=''.join(textt)\n",
    "    return easy_res"
   ]
  },
  {
   "cell_type": "code",
   "execution_count": 11,
   "id": "3185a307",
   "metadata": {},
   "outputs": [],
   "source": [
    "def perform_ocr(ocr_im,max_letters):\n",
    "    res_keras=[]\n",
    "    corrected=[]\n",
    "    res_tes=[]\n",
    "    tt=cv2.imread(ocr_im)\n",
    "    res_tes=pytesseract.image_to_string(tt,config=config,lang='exp_1')\n",
    "    res_tes=prepare(res_tes,'tab')\n",
    "    res_tes=number_correction(res_tes)\n",
    "    print(res_tes)\n",
    "    res_opus=textract.process(ocr_im,method='ocropus')\n",
    "    res_opus=res_opus.decode(\"utf-8\")\n",
    "    res_opus=prepare(res_opus,'tab')\n",
    "    res_opus=number_correction(res_opus)\n",
    "    res_opus=res_opus.replace(\" \",\"\")\n",
    "    print(res_opus)\n",
    "    res_easy=easy_oc(tt)\n",
    "    res_easy=number_correction(res_easy)\n",
    "    #predictions = pipeline.recognize([tt])\n",
    "    #for prediction in predictions[0]:\n",
    "     #   res_keras.append(prepare(prediction[0],'tab'))\n",
    "    #res_keras=' '.join(res_keras)\n",
    "    #if (check==True):\n",
    "     #   if(\".\" not in res_keras):\n",
    "      #      res_keras=''\n",
    "    print(res_easy)\n",
    "    best=best_res(res_tes,res_opus,res_easy,maxi_letters=max_letters)\n",
    "    best_s=best.split()\n",
    "    return (best_s)"
   ]
  },
  {
   "cell_type": "code",
   "execution_count": 64,
   "id": "ce051c38",
   "metadata": {},
   "outputs": [
    {
     "data": {
      "text/plain": [
       "(2338, 1654)"
      ]
     },
     "execution_count": 64,
     "metadata": {},
     "output_type": "execute_result"
    }
   ],
   "source": [
    "#Loading the image on which we are going to perfom ocr\n",
    "image='D4/ss/7.png'\n",
    "img=cv2.imread(image,0)\n",
    "img.shape"
   ]
  },
  {
   "cell_type": "code",
   "execution_count": 65,
   "id": "7f59a5c7",
   "metadata": {},
   "outputs": [
    {
     "name": "stderr",
     "output_type": "stream",
     "text": [
      "Ultralytics YOLOv8.0.22  Python-3.9.12 torch-1.13.1 CUDA:0 (NVIDIA GeForce GTX 1650, 4096MiB)\n",
      "Model summary (fused): 168 layers, 11128293 parameters, 0 gradients, 28.5 GFLOPs\n",
      "image 1/1 C:\\Users\\Flam\\Desktop\\Stage WCT\\D4\\ss\\7.png: 640x480 1 bonus, 1 consommation, 1 num-date, 1 penalty, 1 periodique, 1 ref, 1 triphase, 18.7ms\n",
      "Speed: 0.0ms pre-process, 18.7ms inference, 2.0ms postprocess per image at shape (1, 3, 640, 640)\n"
     ]
    }
   ],
   "source": [
    "# Load a model\n",
    "cells = YOLO(\"weights/MT_elect_v1.pt\")# load the table cells detection model\n",
    "# detecting the 3 main region of interests within the invoice\n",
    "results_tab = cells(image)  # predict on an image"
   ]
  },
  {
   "cell_type": "code",
   "execution_count": 66,
   "id": "8bf0a261",
   "metadata": {},
   "outputs": [
    {
     "name": "stdout",
     "output_type": "stream",
     "text": [
      "fragment  0  : [       1040         918        1436        1082]\n",
      "fragment  1  : [       1275         546        1450         673]\n",
      "fragment  2  : [        337        1160         536        1329]\n",
      "fragment  3  : [       1033         689        1435         923]\n",
      "fragment  4  : [        452         176        1126         304]\n",
      "fragment  5  : [         54        1429         655        1478]\n",
      "fragment  6  : [         61        1380         649        1451]\n",
      "cropped images:  7\n",
      "number of images: 7 number of classes 7\n"
     ]
    }
   ],
   "source": [
    "#Extracting bounding boxes and ROI from the table model\n",
    "x=[]\n",
    "y=[]\n",
    "h=[]\n",
    "w=[]\n",
    "c=[]\n",
    "cropped=[]\n",
    "boxes_labels(results_tab,x,y,h,w,c)\n",
    "cropped=crop_image(x,y,h,w)\n",
    "classes=[]\n",
    "images=[]\n",
    "singilarity(cropped,c,classes,images)\n"
   ]
  },
  {
   "cell_type": "code",
   "execution_count": 67,
   "id": "3920e67d",
   "metadata": {},
   "outputs": [],
   "source": [
    "#storing cropped images locally\n",
    "exceptions=[0,0,0,0,0,0,0]\n",
    "try:\n",
    "    cv2.imwrite('D4/frags/bon.jpg', images[classes.index(0)])\n",
    "    cv2.imwrite('D4/frags/bonus.jpg', enhance('D4/frags/bon.jpg'))\n",
    "except:\n",
    "    exceptions[0]=1\n",
    "try:    \n",
    "    cv2.imwrite('D4/frags/con.jpg', images[classes.index(1)])\n",
    "    cv2.imwrite('D4/frags/consommation.jpg', enhance('D4/frags/con.jpg'))\n",
    "except:\n",
    "    exceptions[1]=1\n",
    "try:\n",
    "    cv2.imwrite('D4/frags/n_d.jpg', images[classes.index(2)])\n",
    "    cv2.imwrite('D4/frags/num_date.jpg', enhance('D4/frags/n_d.jpg'))\n",
    "    \n",
    "except:\n",
    "    exceptions[2]=1\n",
    "try:\n",
    "    cv2.imwrite('D4/frags/pen.jpg', images[classes.index(3)])\n",
    "    cv2.imwrite('D4/frags/penalty.jpg', enhance('D4/frags/pen.jpg'))\n",
    "except:\n",
    "    exceptions[3]=1\n",
    "\n",
    "try:\n",
    "    cv2.imwrite('D4/frags/per.jpg', images[classes.index(4)])\n",
    "    cv2.imwrite('D4/frags/periodique.jpg', enhance('D4/frags/per.jpg'))\n",
    "except:\n",
    "    exceptions[4]=1\n",
    "try:\n",
    "    cv2.imwrite('D4/frags/ref.jpg', images[classes.index(5)])\n",
    "    cv2.imwrite('D4/frags/reference.jpg', enhance('D4/frags/ref.jpg'))\n",
    "except:\n",
    "    exceptions[5]=1\n",
    "try:\n",
    "    cv2.imwrite('D4/frags/tri.jpg', images[classes.index(6)])\n",
    "    cv2.imwrite('D4/frags/triphase.jpg', enhance('D4/frags/tri.jpg'))\n",
    "except:\n",
    "    exceptions[6]=1\n"
   ]
  },
  {
   "cell_type": "code",
   "execution_count": 68,
   "id": "e9e48eb3",
   "metadata": {},
   "outputs": [
    {
     "data": {
      "text/plain": [
       "[0, 0, 0, 0, 0, 0, 0]"
      ]
     },
     "execution_count": 68,
     "metadata": {},
     "output_type": "execute_result"
    }
   ],
   "source": [
    "exceptions"
   ]
  },
  {
   "cell_type": "code",
   "execution_count": 69,
   "id": "9c41b0c9",
   "metadata": {},
   "outputs": [
    {
     "data": {
      "text/plain": [
       "True"
      ]
     },
     "execution_count": 69,
     "metadata": {},
     "output_type": "execute_result"
    }
   ],
   "source": [
    "old_tri,new_tri=divide_image('D4/frags/triphase.jpg')\n",
    "old_per,new_per=divide_image('D4/frags/periodique.jpg')\n",
    "cv2.imwrite('D4/frags/old_triphase.jpg',old_tri)\n",
    "cv2.imwrite('D4/frags/new_triphase.jpg',new_tri)\n",
    "cv2.imwrite('D4/frags/old_periodique.jpg',old_per)\n",
    "cv2.imwrite('D4/frags/new_periodique.jpg',new_per)"
   ]
  },
  {
   "cell_type": "code",
   "execution_count": null,
   "id": "897def71",
   "metadata": {},
   "outputs": [],
   "source": [
    "if(exceptions[0]==0):\n",
    "    bonus=perform_ocr('D4/frags/bonus.jpg',False)\n",
    "else:\n",
    "    bonus=['error']\n",
    "    \n",
    "if(exceptions[1]==0):\n",
    "    consommation=perform_ocr('D4/frags/consommation.jpg',max_letters=False)\n",
    "else:\n",
    "    consommation=['0']\n",
    "    \n",
    "if(exceptions[2]==0):\n",
    "    num_date=perform_ocr('num_date.jpg.jpg',max_letters=False)\n",
    "else:\n",
    "    num_date=['0']\n",
    "    \n",
    "if(exceptions[3]==0):\n",
    "    penalty=perform_ocr('D4/frags/penalty.jpg',False)\n",
    "else:\n",
    "    penalty=['error'] \n",
    "    \n",
    "if(exceptions[4]==0):\n",
    "    #periodique=perform_ocr('periodique.jpg',False)\n",
    "    old_periodique=perform_ocr('old_periodique.jpg',False)\n",
    "    new_periodique=perform_ocr('new_periodique.jpg',False)\n",
    "else:\n",
    "    old_periodique=new_periodique=['error']\n",
    "\n",
    "if(exceptions[5]==0):\n",
    "    reference=perform_ocr('reference.jpg',False)\n",
    "else:\n",
    "    index=['error']\n",
    "if(exceptions[6]==0):\n",
    "    #triphase=perform_ocr('triphase.jpg',False)\n",
    "    old_triphase=perform_ocr('old_triphase.jpg',False)\n",
    "    new_triphase=perform_ocr('new_triphase.jpg',False)\n",
    "else:\n",
    "    old_triphase=new_triphase=['error']\n"
   ]
  },
  {
   "cell_type": "code",
   "execution_count": 25,
   "id": "41870d40",
   "metadata": {},
   "outputs": [
    {
     "data": {
      "image/png": "[encoded data removed]",
      "text/plain": [
       "<Figure size 432x288 with 1 Axes>"
      ]
     },
     "metadata": {
      "needs_background": "light"
     },
     "output_type": "display_data"
    }
   ],
   "source": [
    "plt.imshow(cv2.cvtColor(new_tri, cv2.COLOR_BGR2RGB))\n",
    "plt.show()"
   ]
  },
  {
   "cell_type": "code",
   "execution_count": 99,
   "id": "2792d0df",
   "metadata": {},
   "outputs": [
    {
     "name": "stdout",
     "output_type": "stream",
     "text": [
      "['No Facture', '83011643', 'asL4', 'Mois', '01/2021', '4', '~']\n",
      "No Facture 83011643 asL4 Mois 01/2021 4 ~\n"
     ]
    },
    {
     "data": {
      "image/png": "[encoded data removed]",
      "text/plain": [
       "<Figure size 432x288 with 1 Axes>"
      ]
     },
     "metadata": {
      "needs_background": "light"
     },
     "output_type": "display_data"
    }
   ],
   "source": [
    "imss=cv2.imread(\"D4/frags/num_date.jpg\")\n",
    "results = text_reader.readtext(imss )\n",
    "textt=[]\n",
    "for (bbox, text, prob) in results:\n",
    "    textt.append(text)\n",
    "print(textt)\n",
    "plt.imshow(imss)\n",
    "plt.title(\"First Image\");"
   ]
  },
  {
   "cell_type": "code",
   "execution_count": 98,
   "id": "a9963fd4",
   "metadata": {},
   "outputs": [
    {
     "name": "stdout",
     "output_type": "stream",
     "text": [
      "resultat tesseract:  ['N Facture . 83011643  Syg3LaN By', 'Mois 01/2021 et']\n",
      "resultat ocropus:  ['N Facture . 83011643  Syg3LaN By', 'Mois 01/2021 et']\n",
      "resultat keras [['no'], ['facture'], ['8301'], ['1643'], ['oila'], ['cs'], ['s'], ['mois'], ['0112021'], ['la']]\n"
     ]
    }
   ],
   "source": [
    "res_keras=[]\n",
    "corrected=[]\n",
    "res_tes=[]\n",
    "tt=cv2.imread('D4/frags/n_d.jpg')\n",
    "res_tes=pytesseract.image_to_string(tt,config=config,lang='eng')\n",
    "#print(res_tes)\n",
    "res_tes=prepare(res_tes,'tab')\n",
    "#res_tes=number_correction(res_tes)\n",
    "print('resultat tesseract: ',res_tes)\n",
    "res_opus=textract.process('D4/frags/n_d.jpg',method='ocropus')\n",
    "res_opus=res_opus.decode(\"utf-8\")\n",
    "res_opus=prepare(res_opus,'tab')\n",
    "#print(res_opus)\n",
    "#res_opus=number_correction(res_opus)\n",
    "print('resultat ocropus: ',res_opus)\n",
    "predictions = pipeline.recognize([tt])\n",
    "for prediction in predictions[0]:\n",
    "    res_keras.append(prepare(prediction[0],'tab'))\n",
    "#res_keras=' '.join(res_keras)\n",
    "print('resultat keras',res_keras)"
   ]
  },
  {
   "cell_type": "code",
   "execution_count": 101,
   "id": "052c8820",
   "metadata": {},
   "outputs": [],
   "source": [
    "import re\n",
    "def is_valid_number(string):\n",
    "    pattern = r'^[0-9,.-]+$'\n",
    "    return re.match(pattern, string) is not None and len(string) > 2\n",
    "def is_valid_date(string):\n",
    "    pattern = r'^(0[1-9]|1[0-2])/(\\d{4})$'\n",
    "    return re.match(pattern, string) is not None\n"
   ]
  },
  {
   "cell_type": "code",
   "execution_count": 102,
   "id": "c99a6703",
   "metadata": {},
   "outputs": [
    {
     "name": "stdout",
     "output_type": "stream",
     "text": [
      "83011643\n"
     ]
    }
   ],
   "source": [
    "for xx in textt:\n",
    "    if is_valid_number(xx):\n",
    "        print(xx)"
   ]
  },
  {
   "cell_type": "code",
   "execution_count": 86,
   "id": "3b5a4b13",
   "metadata": {},
   "outputs": [
    {
     "data": {
      "text/plain": [
       "'geo Référence 552610'"
      ]
     },
     "execution_count": 86,
     "metadata": {},
     "output_type": "execute_result"
    }
   ],
   "source": [
    "res_tes"
   ]
  },
  {
   "cell_type": "code",
   "execution_count": null,
   "id": "e8ee9043",
   "metadata": {},
   "outputs": [],
   "source": []
  }
 ],
 "metadata": {
  "kernelspec": {
   "display_name": "Python 3 (ipykernel)",
   "language": "python",
   "name": "python3"
  },
  "language_info": {
   "codemirror_mode": {
    "name": "ipython",
    "version": 3
   },
   "file_extension": ".py",
   "mimetype": "text/x-python",
   "name": "python",
   "nbconvert_exporter": "python",
   "pygments_lexer": "ipython3",
   "version": "3.9.12"
  }
 },
 "nbformat": 4,
 "nbformat_minor": 5
}
