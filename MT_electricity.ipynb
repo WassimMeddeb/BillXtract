{
 "cells": [
  {
   "cell_type": "code",
   "execution_count": 2,
   "id": "89f0a15a",
   "metadata": {},
   "outputs": [],
   "source": [
    "import cv2\n",
    "import pytesseract\n",
    "#import csv\n",
    "import numpy as np\n",
    "import pandas as pd\n",
    "from ultralytics import YOLO\n",
    "import textract\n",
    "#from PIL import Image\n",
    "import matplotlib.pyplot as plt\n",
    "import keras_ocr\n",
    "import Levenshtein\n",
    "from skimage.filters import threshold_local\n",
    "import easyocr"
   ]
  },
  {
   "cell_type": "code",
   "execution_count": 3,
   "id": "dab82747",
   "metadata": {},
   "outputs": [
    {
     "name": "stdout",
     "output_type": "stream",
     "text": [
      "Looking for C:\\Users\\Flam\\.keras-ocr\\craft_mlt_25k.h5\n",
      "WARNING:tensorflow:From C:\\Users\\Flam\\AppData\\Roaming\\Python\\Python39\\site-packages\\tensorflow\\python\\ops\\array_ops.py:5043: calling gather (from tensorflow.python.ops.array_ops) with validate_indices is deprecated and will be removed in a future version.\n",
      "Instructions for updating:\n",
      "The `validate_indices` argument has no effect. Indices are always validated on CPU and never validated on GPU.\n",
      "Looking for C:\\Users\\Flam\\.keras-ocr\\crnn_kurapan.h5\n"
     ]
    }
   ],
   "source": [
    "text_reader = easyocr.Reader(['en']) #Initialzing the ocr\n",
    "config = f'--psm 6'\n",
    "pipeline = keras_ocr.pipeline.Pipeline()"
   ]
  },
  {
   "cell_type": "code",
   "execution_count": 4,
   "id": "b10b4e4e",
   "metadata": {},
   "outputs": [],
   "source": [
    "def bw_scanner(image):\n",
    "    gray = cv2.cvtColor(image, cv2.COLOR_BGR2GRAY)\n",
    "    T = threshold_local(gray, 21, offset = 5, method = \"gaussian\")\n",
    "    return (gray > T).astype(\"uint8\") * 255\n",
    "#function to enhance the contrast of image for better ocr result\n",
    "def enhance(im):\n",
    "    img1 = cv2.imread(im)\n",
    "    img = bw_scanner(img1)\n",
    "    # converting to LAB color space\n",
    "    img=cv2.cvtColor(img,cv2.COLOR_GRAY2BGR)\n",
    "    lab= cv2.cvtColor(img, cv2.COLOR_BGR2LAB)\n",
    "    l_channel, a, b = cv2.split(lab)\n",
    "\n",
    "    # Applying CLAHE to L-channel\n",
    "    # feel free to try different values for the limit and grid size:\n",
    "    clahe = cv2.createCLAHE(clipLimit=2.0, tileGridSize=(9,9))\n",
    "    cl = clahe.apply(l_channel)\n",
    "\n",
    "    # merge the CLAHE enhanced L-channel with the a and b channel\n",
    "    limg = cv2.merge((cl,a,b))\n",
    "\n",
    "    # Converting image from LAB Color model to BGR color spcae\n",
    "    enhanced_img = cv2.cvtColor(limg, cv2.COLOR_LAB2BGR)\n",
    "\n",
    "    # Stacking the original image with the enhanced image\n",
    "    #result = np.hstack((img, enhanced_img))\n",
    "    #cv2.imshow('Result', result)\n",
    "    #cv2.waitKey(0)\n",
    "    return enhanced_img"
   ]
  },
  {
   "cell_type": "code",
   "execution_count": 5,
   "id": "40f276ae",
   "metadata": {},
   "outputs": [],
   "source": [
    "# extracting bounding boxes cordinates and their labels\n",
    "def boxes_labels(results,x,y,h,w,c):\n",
    "    bbox=results[0].boxes.boxes\n",
    "    bbox=bbox.cpu().numpy()\n",
    "    boxes=results[0].boxes.xyxy\n",
    "    for i,box in enumerate(boxes):\n",
    "        box=box.cpu().numpy()\n",
    "        print(\"fragment \",i,\" :\",box)\n",
    "        x.append(int(box[0]))\n",
    "        y.append(int(box[1]))\n",
    "        h.append(int(box[3]-y[i]))\n",
    "        w.append(int(box[2]-x[i]))\n",
    "        c.append(bbox[i][5])"
   ]
  },
  {
   "cell_type": "code",
   "execution_count": 6,
   "id": "40137753",
   "metadata": {},
   "outputs": [],
   "source": [
    "#storing ROIs in a liste\n",
    "def crop_image(x,y,h,w):\n",
    "    cropped=[]\n",
    "    for (X,Y,H,W) in zip(x,y,h,w):\n",
    "        cropped.append(img[Y:Y+H, X:X+W])\n",
    "    print(\"cropped images: \",len(cropped))\n",
    "    return (cropped)"
   ]
  },
  {
   "cell_type": "code",
   "execution_count": 7,
   "id": "88a85924",
   "metadata": {},
   "outputs": [],
   "source": [
    "#to avoid the presence of multi instance from classes\n",
    "def singilarity(cropped,c,classes,images):\n",
    "   # images=[]\n",
    "    for (img,C) in zip(cropped,c):\n",
    "        try:\n",
    "            i=classes.index(C)\n",
    "        except:\n",
    "            i=-1\n",
    "        if i<0 :\n",
    "            classes.append(C)\n",
    "            images.append(img)\n",
    "        else :\n",
    "            if len(img)>len(images[i]) :\n",
    "                images[i]=img\n",
    "    print('number of images:',len(images),'number of classes',len(classes))\n",
    "            "
   ]
  },
  {
   "cell_type": "code",
   "execution_count": 93,
   "id": "33e2882b",
   "metadata": {},
   "outputs": [],
   "source": [
    "#cleaning strings\n",
    "def strip_string(my_string):\n",
    "    replacements = [('!', ''), ('?', ''),('|',''),(\"[\",\"\"),(\"]\",\"\"),('\\\\',\"\"),('\\r',''),('\\'',''),('.',''),('',''),(\"\\u200f\",\"\"),(\"\\u200e\",\"\"),(\"{\",\"\"),(\"}\",\"\"),(\"%\",\"\"),(\"~\",\"\"),(\",\",\".\"),(':','.'),(\";\",\".\"),('°',''),('+',''),('(',''),(')','')]\n",
    "    for char, replacement in replacements:\n",
    "        if char in my_string:\n",
    "            my_string = my_string.replace(char, replacement)\n",
    "    return my_string\n",
    "\n",
    "def prepare(my_string,flag):\n",
    "    tmp=strip_string(my_string)\n",
    "    tmp=tmp.split(\"\\n\")\n",
    "    while(\"\" in tmp):\n",
    "        tmp.remove(\"\")\n",
    "    return(tmp)\n",
    "\n",
    "def remove_substring_except_last(string, substring):\n",
    "    # Replace all occurrences of the substring except the last one with an empty string\n",
    "    new_string = string.replace(substring, \"\", string.count(substring)-1)\n",
    "    # Split the string at the last occurrence of the substring\n",
    "    parts = new_string.rsplit(substring, 1)\n",
    "    # Join the parts back together with the substring\n",
    "    return substring.join(parts)\n",
    "\n",
    "def reglage_montant(money):\n",
    "    for i in range(len(money)):\n",
    "        money[i]=remove_substring_except_last(money[i],'.')\n",
    "    return (money)\n",
    "\n",
    "def get_numbers(test_string):\n",
    "    letter = [x for x in test_string]\n",
    "    res = [i for i in letter if (i.isdigit() or i=='.')]\n",
    "    result=''.join(res)\n",
    "    if (len(result)>0):\n",
    "        return result\n",
    "    else:\n",
    "        return (test_string)\n",
    "def containsNumber(value):\n",
    "    for character in value:\n",
    "        if character.isdigit():\n",
    "            return True\n",
    "    return False\n",
    "def number_correction(string):\n",
    "    corrected=[]\n",
    "    replacements = [(\"Q\",\"0\"),(\"p\",\"0\"),(\"q\",\"0\"),(\"d\",\"0\"),(\"o\",\"0\"),(\"O\",\"0\"),('I','1'),('z','2'),('Z','2'),('a','3'),(\" \",\"\"),(\"B\",\"8\")]\n",
    "    X=string.split(\" \")\n",
    "    for i in X:\n",
    "        letters=i\n",
    "        for char, replacement in replacements:\n",
    "            if char in letters:\n",
    "                letters = letters.replace(char, replacement)\n",
    "        corrected.append(letters)\n",
    "    ss=\" \".join(corrected)\n",
    "    return (ss)"
   ]
  },
  {
   "cell_type": "code",
   "execution_count": 94,
   "id": "85812209",
   "metadata": {},
   "outputs": [],
   "source": [
    "#Return the best result from three ocr results\n",
    "def best_res(string1,string2,string3,maxi_letters=False):\n",
    "    empty=0\n",
    "    for x in [string1,string2,string3]:\n",
    "        if x =='':\n",
    "            empty+=1\n",
    "        else:\n",
    "            unique=x\n",
    "    if empty==3:\n",
    "        return \"0\";\n",
    "    if empty==2:\n",
    "        return unique\n",
    "    # Define the three OCR strings\n",
    "    flag=False\n",
    "    if (string1==''):\n",
    "        flag=True\n",
    "        #string1='0123456789.-'\n",
    "    if(string2==''):\n",
    "        if (flag==True):\n",
    "            flag=False\n",
    "            string2='0123456789.-'\n",
    "    if(string3==''):\n",
    "        if (flag==True):\n",
    "            flag=False\n",
    "            string3='0123456789.-'\n",
    "    ocr_strings = [string1,string2,string3]\n",
    "    #print('st1:',string1,'st2:',string2,'st3:',string3)\n",
    "    # Calculate the average Levenshtein distance between each OCR string and the other two strings\n",
    "    avg_distances = []\n",
    "    for i in range(len(ocr_strings)):\n",
    "        total_distance = 0\n",
    "        for j in range(len(ocr_strings)):\n",
    "            if i != j:\n",
    "                total_distance += Levenshtein.distance(ocr_strings[i], ocr_strings[j])\n",
    "        avg_distance = total_distance / 2\n",
    "        avg_distances.append(avg_distance)\n",
    "    if(maxi_letters==True):\n",
    "        ind=unique_long(ocr_strings)\n",
    "        if(ind>-1):\n",
    "            avg_distances[ind]=avg_distances[ind]-2\n",
    "\n",
    "    # Determine the most accurate result based on the average distances\n",
    "    #if min(avg_distances) < 4:\n",
    "    index = avg_distances.index(min(avg_distances))\n",
    "    if len(ocr_strings[index])>0:\n",
    "        return (ocr_strings[index])\n",
    "    else:\n",
    "        return('error')\n",
    "    #else:\n",
    "        #return ('not reliable')\n"
   ]
  },
  {
   "cell_type": "code",
   "execution_count": 18,
   "id": "bf790fb1",
   "metadata": {},
   "outputs": [],
   "source": [
    "def divide_image(im):\n",
    "    image = cv2.imread(im)\n",
    "\n",
    "    height, width = image.shape[:2]\n",
    "    midpoint = width // 2\n",
    "\n",
    "    left_image = image[:, :midpoint].copy()\n",
    "    right_image = image[:, midpoint:].copy()\n",
    "    return([left_image,right_image])"
   ]
  },
  {
   "cell_type": "code",
   "execution_count": 10,
   "id": "2986400c",
   "metadata": {},
   "outputs": [],
   "source": [
    "def easy_oc(image):\n",
    "    results = text_reader.readtext(image )\n",
    "    textt=[]\n",
    "    for (bbox, text, prob) in results:\n",
    "        textt.append(text)\n",
    "    easy_res=''.join(textt)\n",
    "    return easy_res"
   ]
  },
  {
   "cell_type": "code",
   "execution_count": 11,
   "id": "a9d712ba",
   "metadata": {},
   "outputs": [],
   "source": [
    "def perform_ocr(ocr_im,max_letters):\n",
    "    res_keras=[]\n",
    "    corrected=[]\n",
    "    res_tes=[]\n",
    "    tt=cv2.imread(ocr_im)\n",
    "    res_tes=pytesseract.image_to_string(tt,config=config,lang='exp_1')\n",
    "    res_tes=prepare(res_tes,'tab')\n",
    "    res_tes=number_correction(res_tes)\n",
    "    print(res_tes)\n",
    "    res_opus=textract.process(ocr_im,method='ocropus')\n",
    "    res_opus=res_opus.decode(\"utf-8\")\n",
    "    res_opus=prepare(res_opus,'tab')\n",
    "    res_opus=number_correction(res_opus)\n",
    "    res_opus=res_opus.replace(\" \",\"\")\n",
    "    print(res_opus)\n",
    "    res_easy=easy_oc(tt)\n",
    "    res_easy=number_correction(res_easy)\n",
    "    #predictions = pipeline.recognize([tt])\n",
    "    #for prediction in predictions[0]:\n",
    "     #   res_keras.append(prepare(prediction[0],'tab'))\n",
    "    #res_keras=' '.join(res_keras)\n",
    "    #if (check==True):\n",
    "     #   if(\".\" not in res_keras):\n",
    "      #      res_keras=''\n",
    "    print(res_easy)\n",
    "    best=best_res(res_tes,res_opus,res_easy,maxi_letters=max_letters)\n",
    "    best_s=best.split()\n",
    "    return (best_s)"
   ]
  },
  {
   "cell_type": "code",
   "execution_count": 104,
   "id": "7e2bd5a4",
   "metadata": {},
   "outputs": [],
   "source": [
    "import re\n",
    "def is_valid_number(string):\n",
    "    pattern = r'^[0-9,.-]+$'\n",
    "    return re.match(pattern, string) is not None and len(string) > 2\n",
    "def is_valid_date(string):\n",
    "    pattern = r'^(0[1-9]|1[0-2])/(\\d{4})$'\n",
    "    return re.match(pattern, string) is not None"
   ]
  },
  {
   "cell_type": "code",
   "execution_count": 113,
   "id": "03afb3a9",
   "metadata": {},
   "outputs": [],
   "source": [
    "def simple_ocr(im,seek_date=False):\n",
    "    imss=cv2.imread(im)\n",
    "    results = text_reader.readtext(imss )\n",
    "    textt=[]\n",
    "    numbers=[]\n",
    "    seeked_date=''\n",
    "    for (bbox, text, prob) in results:\n",
    "        textt.append(text)\n",
    "    #print(textt)\n",
    "    for word in textt:\n",
    "        if is_valid_number(word):\n",
    "            numbers.append(word)\n",
    "    if seek_date==False:\n",
    "            return numbers\n",
    "    else:\n",
    "        for word in textt:\n",
    "            if is_valid_date(word):\n",
    "                seeked_date=word\n",
    "        return(numbers,seeked_date)\n",
    "    #plt.imshow(imss)\n",
    "    #plt.title(\"First Image\");\n",
    "    #return textt"
   ]
  },
  {
   "cell_type": "code",
   "execution_count": 128,
   "id": "97031eaf",
   "metadata": {},
   "outputs": [
    {
     "data": {
      "text/plain": [
       "(2338, 1654)"
      ]
     },
     "execution_count": 128,
     "metadata": {},
     "output_type": "execute_result"
    }
   ],
   "source": [
    "#Loading the image on which we are going to perfom ocr\n",
    "image='D4/ss/11.png'\n",
    "img=cv2.imread(image,0)\n",
    "img.shape"
   ]
  },
  {
   "cell_type": "code",
   "execution_count": 129,
   "id": "d36ebe36",
   "metadata": {},
   "outputs": [
    {
     "name": "stderr",
     "output_type": "stream",
     "text": [
      "Ultralytics YOLOv8.0.22  Python-3.9.12 torch-1.13.1 CUDA:0 (NVIDIA GeForce GTX 1650, 4096MiB)\n",
      "Model summary (fused): 168 layers, 11128293 parameters, 0 gradients, 28.5 GFLOPs\n",
      "image 1/1 C:\\Users\\Flam\\Desktop\\Stage WCT\\D4\\ss\\11.png: 640x480 1 bonus, 1 consommation, 2 num-dates, 1 penalty, 1 periodique, 1 ref, 1 triphase, 38.6ms\n",
      "Speed: 3.0ms pre-process, 38.6ms inference, 5.0ms postprocess per image at shape (1, 3, 640, 640)\n"
     ]
    }
   ],
   "source": [
    "# Load a model\n",
    "cells = YOLO(\"weights/MT_elect_v1.pt\")# load the table cells detection model\n",
    "# detecting the 3 main region of interests within the invoice\n",
    "results_tab = cells(image)  # predict on an image"
   ]
  },
  {
   "cell_type": "code",
   "execution_count": 130,
   "id": "271bc6b8",
   "metadata": {},
   "outputs": [
    {
     "name": "stdout",
     "output_type": "stream",
     "text": [
      "fragment  0  : [       1266         584        1439         716]\n",
      "fragment  1  : [       1028         727        1416         965]\n",
      "fragment  2  : [        325        1205         527        1372]\n",
      "fragment  3  : [        451         202        1168         333]\n",
      "fragment  4  : [       1035         964        1416        1123]\n",
      "fragment  5  : [         37        1416         643        1474]\n",
      "fragment  6  : [         33        1469         641        1517]\n",
      "fragment  7  : [        240         205         974         345]\n",
      "cropped images:  8\n",
      "number of images: 7 number of classes 7\n"
     ]
    }
   ],
   "source": [
    "#Extracting bounding boxes and ROI from the table model\n",
    "x=[]\n",
    "y=[]\n",
    "h=[]\n",
    "w=[]\n",
    "c=[]\n",
    "cropped=[]\n",
    "boxes_labels(results_tab,x,y,h,w,c)\n",
    "cropped=crop_image(x,y,h,w)\n",
    "classes=[]\n",
    "images=[]\n",
    "singilarity(cropped,c,classes,images)\n"
   ]
  },
  {
   "cell_type": "code",
   "execution_count": 135,
   "id": "73b14944",
   "metadata": {},
   "outputs": [],
   "source": [
    "#storing cropped images locally\n",
    "exceptions=[0,0,0,0,0,0,0]\n",
    "try:\n",
    "    cv2.imwrite('D4/frags/bon.jpg', images[classes.index(0)])\n",
    "    cv2.imwrite('D4/frags/bonus.jpg', enhance('D4/frags/bon.jpg'))\n",
    "except:\n",
    "    exceptions[0]=1\n",
    "try:    \n",
    "    cv2.imwrite('D4/frags/con.jpg', images[classes.index(1)])\n",
    "    cv2.imwrite('D4/frags/consommation.jpg', enhance('D4/frags/con.jpg'))\n",
    "except:\n",
    "    exceptions[1]=1\n",
    "try:\n",
    "    cv2.imwrite('D4/frags/n_d.jpg', images[classes.index(2)])\n",
    "    cv2.imwrite('D4/frags/num_date.jpg', enhance('D4/frags/n_d.jpg'))\n",
    "    \n",
    "except:\n",
    "    exceptions[2]=1\n",
    "try:\n",
    "    cv2.imwrite('D4/frags/pen.jpg', images[classes.index(3)])\n",
    "    cv2.imwrite('D4/frags/penalty.jpg', enhance('D4/frags/pen.jpg'))\n",
    "except:\n",
    "    exceptions[3]=1\n",
    "\n",
    "try:\n",
    "    cv2.imwrite('D4/frags/per.jpg', images[classes.index(4)])\n",
    "    cv2.imwrite('D4/frags/periodique.jpg', enhance('D4/frags/per.jpg'))\n",
    "except:\n",
    "    exceptions[4]=1\n",
    "try:\n",
    "    cv2.imwrite('D4/frags/ref.jpg', images[classes.index(5)])\n",
    "    cv2.imwrite('D4/frags/reference.jpg', enhance('D4/frags/ref.jpg'))\n",
    "except:\n",
    "    exceptions[5]=1\n",
    "try:\n",
    "    cv2.imwrite('D4/frags/tri.jpg', images[classes.index(6)])\n",
    "    cv2.imwrite('D4/frags/triphase.jpg', enhance('D4/frags/tri.jpg'))\n",
    "except:\n",
    "    exceptions[6]=1\n"
   ]
  },
  {
   "cell_type": "code",
   "execution_count": 136,
   "id": "690c4f23",
   "metadata": {},
   "outputs": [
    {
     "data": {
      "text/plain": [
       "[0, 0, 0, 0, 0, 0, 0]"
      ]
     },
     "execution_count": 136,
     "metadata": {},
     "output_type": "execute_result"
    }
   ],
   "source": [
    "exceptions"
   ]
  },
  {
   "cell_type": "code",
   "execution_count": 137,
   "id": "6f4e0a7f",
   "metadata": {},
   "outputs": [
    {
     "data": {
      "text/plain": [
       "True"
      ]
     },
     "execution_count": 137,
     "metadata": {},
     "output_type": "execute_result"
    }
   ],
   "source": [
    "old_tri,new_tri=divide_image('D4/frags/triphase.jpg')\n",
    "old_per,new_per=divide_image('D4/frags/periodique.jpg')\n",
    "cv2.imwrite('D4/frags/old_triphase.jpg',old_tri)\n",
    "cv2.imwrite('D4/frags/new_triphase.jpg',new_tri)\n",
    "cv2.imwrite('D4/frags/old_periodique.jpg',old_per)\n",
    "cv2.imwrite('D4/frags/new_periodique.jpg',new_per)"
   ]
  },
  {
   "cell_type": "code",
   "execution_count": null,
   "id": "efdae223",
   "metadata": {},
   "outputs": [],
   "source": [
    "if(exceptions[0]==0):\n",
    "    bonus=perform_ocr('D4/frags/bonus.jpg',False)\n",
    "else:\n",
    "    bonus=['error']\n",
    "    \n",
    "if(exceptions[1]==0):\n",
    "    consommation=perform_ocr('D4/frags/consommation.jpg',max_letters=False)\n",
    "else:\n",
    "    consommation=['0']\n",
    "    \n",
    "if(exceptions[2]==0):\n",
    "    num_date=perform_ocr('num_date.jpg.jpg',max_letters=False)\n",
    "else:\n",
    "    num_date=['0']\n",
    "    \n",
    "if(exceptions[3]==0):\n",
    "    penalty=perform_ocr('D4/frags/penalty.jpg',False)\n",
    "else:\n",
    "    penalty=['error'] \n",
    "    \n",
    "if(exceptions[4]==0):\n",
    "    #periodique=perform_ocr('periodique.jpg',False)\n",
    "    old_periodique=perform_ocr('old_periodique.jpg',False)\n",
    "    new_periodique=perform_ocr('new_periodique.jpg',False)\n",
    "else:\n",
    "    old_periodique=new_periodique=['error']\n",
    "\n",
    "if(exceptions[5]==0):\n",
    "    reference=perform_ocr('reference.jpg',False)\n",
    "else:\n",
    "    index=['error']\n",
    "if(exceptions[6]==0):\n",
    "    #triphase=perform_ocr('triphase.jpg',False)\n",
    "    old_triphase=perform_ocr('old_triphase.jpg',False)\n",
    "    new_triphase=perform_ocr('new_triphase.jpg',False)\n",
    "else:\n",
    "    old_triphase=new_triphase=['error']\n"
   ]
  },
  {
   "cell_type": "code",
   "execution_count": 138,
   "id": "e2ceb3d9",
   "metadata": {},
   "outputs": [
    {
     "name": "stdout",
     "output_type": "stream",
     "text": [
      "reference:  ['556650']\n",
      "numero facture:  ['83041764']\n",
      "date facture 04/2021\n",
      "index periodique ancient:  []\n",
      "index periodique nouveau:  []\n",
      "index triphasé ancient:  ['33086', '9335', '12204']\n",
      "index triphasé nouveau:  ['34482', '9411', '15895']\n",
      "consommation:  ['5163']\n",
      "Bonification:  []\n",
      "penalite:  ['939,537']\n"
     ]
    }
   ],
   "source": [
    "reference=simple_ocr('D4/frags/reference.jpg')\n",
    "print('reference: ',reference)\n",
    "num_fact,date_fact=simple_ocr('D4/frags/num_date.jpg',seek_date=True)\n",
    "print('numero facture: ',num_fact)\n",
    "print('date facture',date_fact)\n",
    "new_periodique=simple_ocr('D4/frags/new_periodique.jpg')\n",
    "old_periodique=simple_ocr('D4/frags/old_periodique.jpg')\n",
    "print('index periodique ancient: ',old_periodique)\n",
    "print('index periodique nouveau: ',new_periodique)\n",
    "new_triphase=simple_ocr('D4/frags/new_triphase.jpg')\n",
    "old_triphase=simple_ocr('D4/frags/old_triphase.jpg')\n",
    "print('index triphasé ancient: ',old_triphase)\n",
    "print('index triphasé nouveau: ',new_triphase)\n",
    "consommation=simple_ocr('D4/frags/consommation.jpg')\n",
    "print('consommation: ',consommation)\n",
    "bonification=simple_ocr('D4/frags/bonus.jpg')\n",
    "print('Bonification: ',bonification)\n",
    "penalty=simple_ocr('D4/frags/penalty.jpg')\n",
    "print('penalite: ',penalty)"
   ]
  },
  {
   "cell_type": "code",
   "execution_count": 154,
   "id": "620d567b",
   "metadata": {},
   "outputs": [],
   "source": [
    "df = pd.DataFrame()\n",
    "titles=[]\n",
    "if (len(new_triphase)==1):\n",
    "    titles=['phase 1']\n",
    "elif (len(new_triphase)==3):\n",
    "    titles=['phase 1','phase 2','phase 3']\n",
    "if(len(new_periodique)==1):\n",
    "    titles.append('Jour')\n",
    "elif (len(new_periodique)==4):\n",
    "    titles.extend(['jour','pointe','soir','nuit'])\n",
    "old_index=old_triphase+old_periodique\n",
    "new_index=new_triphase+new_periodique\n",
    "#print(titles)\n",
    "#print(old_index)\n",
    "#print(new_index)  "
   ]
  },
  {
   "cell_type": "code",
   "execution_count": 152,
   "id": "c97d768b",
   "metadata": {},
   "outputs": [
    {
     "data": {
      "text/html": [
       "<div>\n",
       "<style scoped>\n",
       "    .dataframe tbody tr th:only-of-type {\n",
       "        vertical-align: middle;\n",
       "    }\n",
       "\n",
       "    .dataframe tbody tr th {\n",
       "        vertical-align: top;\n",
       "    }\n",
       "\n",
       "    .dataframe thead th {\n",
       "        text-align: right;\n",
       "    }\n",
       "</style>\n",
       "<table border=\"1\" class=\"dataframe\">\n",
       "  <thead>\n",
       "    <tr style=\"text-align: right;\">\n",
       "      <th></th>\n",
       "      <th>Titles</th>\n",
       "      <th>Num_facture</th>\n",
       "      <th>date_fact</th>\n",
       "      <th>Ancient_index</th>\n",
       "      <th>Nouveau_index</th>\n",
       "    </tr>\n",
       "  </thead>\n",
       "  <tbody>\n",
       "    <tr>\n",
       "      <th>0</th>\n",
       "      <td>phase 1</td>\n",
       "      <td>83041764</td>\n",
       "      <td>04/2021</td>\n",
       "      <td>33086</td>\n",
       "      <td>34482</td>\n",
       "    </tr>\n",
       "    <tr>\n",
       "      <th>1</th>\n",
       "      <td>phase 2</td>\n",
       "      <td>83041764</td>\n",
       "      <td>04/2021</td>\n",
       "      <td>9335</td>\n",
       "      <td>9411</td>\n",
       "    </tr>\n",
       "    <tr>\n",
       "      <th>2</th>\n",
       "      <td>phase 3</td>\n",
       "      <td>83041764</td>\n",
       "      <td>04/2021</td>\n",
       "      <td>12204</td>\n",
       "      <td>15895</td>\n",
       "    </tr>\n",
       "  </tbody>\n",
       "</table>\n",
       "</div>"
      ],
      "text/plain": [
       "    Titles Num_facture date_fact Ancient_index Nouveau_index\n",
       "0  phase 1    83041764   04/2021         33086         34482\n",
       "1  phase 2    83041764   04/2021          9335          9411\n",
       "2  phase 3    83041764   04/2021         12204         15895"
      ]
     },
     "execution_count": 152,
     "metadata": {},
     "output_type": "execute_result"
    }
   ],
   "source": [
    "df = pd.DataFrame({'Titles': titles})\n",
    "df['Num_facture']=num_fact[0]\n",
    "df['date_fact']=date_fact\n",
    "df['Ancient_index']=old_index\n",
    "df['Nouveau_index']=new_index\n",
    "df"
   ]
  },
  {
   "cell_type": "code",
   "execution_count": 153,
   "id": "8742b6f9",
   "metadata": {},
   "outputs": [
    {
     "data": {
      "text/plain": [
       "['83041764']"
      ]
     },
     "execution_count": 153,
     "metadata": {},
     "output_type": "execute_result"
    }
   ],
   "source": [
    "num_fact"
   ]
  },
  {
   "cell_type": "code",
   "execution_count": null,
   "id": "4561502c",
   "metadata": {},
   "outputs": [],
   "source": []
  }
 ],
 "metadata": {
  "kernelspec": {
   "display_name": "Python 3 (ipykernel)",
   "language": "python",
   "name": "python3"
  },
  "language_info": {
   "codemirror_mode": {
    "name": "ipython",
    "version": 3
   },
   "file_extension": ".py",
   "mimetype": "text/x-python",
   "name": "python",
   "nbconvert_exporter": "python",
   "pygments_lexer": "ipython3",
   "version": "3.9.12"
  }
 },
 "nbformat": 4,
 "nbformat_minor": 5
}
