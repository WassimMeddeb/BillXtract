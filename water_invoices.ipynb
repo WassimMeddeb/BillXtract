{
 "cells": [
  {
   "cell_type": "code",
   "execution_count": 1,
   "id": "4a30d1b3",
   "metadata": {},
   "outputs": [],
   "source": [
    "import cv2\n",
    "import pytesseract\n",
    "#import csv\n",
    "import numpy as np\n",
    "import pandas as pd\n",
    "from ultralytics import YOLO\n",
    "import textract\n",
    "#from PIL import Image\n",
    "import matplotlib.pyplot as plt\n",
    "import keras_ocr\n",
    "import Levenshtein\n",
    "from skimage.filters import threshold_local"
   ]
  },
  {
   "cell_type": "code",
   "execution_count": 40,
   "id": "99972d5b",
   "metadata": {},
   "outputs": [
    {
     "name": "stdout",
     "output_type": "stream",
     "text": [
      "Looking for C:\\Users\\Flam\\.keras-ocr\\craft_mlt_25k.h5\n",
      "Looking for C:\\Users\\Flam\\.keras-ocr\\crnn_kurapan.h5\n"
     ]
    }
   ],
   "source": [
    "import easyocr\n",
    "text_reader = easyocr.Reader(['en']) #Initialzing the ocr\n",
    "config = f'--psm 7'\n",
    "pipeline = keras_ocr.pipeline.Pipeline()"
   ]
  },
  {
   "cell_type": "code",
   "execution_count": 3,
   "id": "c0114278",
   "metadata": {},
   "outputs": [],
   "source": [
    "def bw_scanner(image):\n",
    "    gray = cv2.cvtColor(image, cv2.COLOR_BGR2GRAY)\n",
    "    T = threshold_local(gray, 21, offset = 5, method = \"gaussian\")\n",
    "    return (gray > T).astype(\"uint8\") * 255\n",
    "#function to enhance the contrast of image for better ocr result\n",
    "def enhance(im):\n",
    "    img1 = cv2.imread(im)\n",
    "    img = bw_scanner(img1)\n",
    "    # converting to LAB color space\n",
    "    img=cv2.cvtColor(img,cv2.COLOR_GRAY2BGR)\n",
    "    lab= cv2.cvtColor(img, cv2.COLOR_BGR2LAB)\n",
    "    l_channel, a, b = cv2.split(lab)\n",
    "\n",
    "    # Applying CLAHE to L-channel\n",
    "    # feel free to try different values for the limit and grid size:\n",
    "    clahe = cv2.createCLAHE(clipLimit=2.0, tileGridSize=(9,9))\n",
    "    cl = clahe.apply(l_channel)\n",
    "\n",
    "    # merge the CLAHE enhanced L-channel with the a and b channel\n",
    "    limg = cv2.merge((cl,a,b))\n",
    "\n",
    "    # Converting image from LAB Color model to BGR color spcae\n",
    "    enhanced_img = cv2.cvtColor(limg, cv2.COLOR_LAB2BGR)\n",
    "\n",
    "    # Stacking the original image with the enhanced image\n",
    "    #result = np.hstack((img, enhanced_img))\n",
    "    #cv2.imshow('Result', result)\n",
    "    #cv2.waitKey(0)\n",
    "    return enhanced_img"
   ]
  },
  {
   "cell_type": "code",
   "execution_count": 4,
   "id": "d3bf0ca1",
   "metadata": {},
   "outputs": [],
   "source": [
    "# extracting bounding boxes cordinates and their labels\n",
    "def boxes_labels(results,x,y,h,w,c):\n",
    "    bbox=results[0].boxes.boxes\n",
    "    bbox=bbox.cpu().numpy()\n",
    "    boxes=results[0].boxes.xyxy\n",
    "    for i,box in enumerate(boxes):\n",
    "        box=box.cpu().numpy()\n",
    "        print(\"fragment \",i,\" :\",box)\n",
    "        x.append(int(box[0]))\n",
    "        y.append(int(box[1]))\n",
    "        h.append(int(box[3]-y[i]))\n",
    "        w.append(int(box[2]-x[i]))\n",
    "        c.append(bbox[i][5])"
   ]
  },
  {
   "cell_type": "code",
   "execution_count": 5,
   "id": "95b075eb",
   "metadata": {},
   "outputs": [],
   "source": [
    "#storing ROIs in a liste\n",
    "def crop_image(x,y,h,w):\n",
    "    cropped=[]\n",
    "    for (X,Y,H,W) in zip(x,y,h,w):\n",
    "        cropped.append(img[Y:Y+H, X:X+W])\n",
    "    print(\"cropped images: \",len(cropped))\n",
    "    return (cropped)"
   ]
  },
  {
   "cell_type": "code",
   "execution_count": 6,
   "id": "64b2aca3",
   "metadata": {},
   "outputs": [],
   "source": [
    "#to avoid the presence of multi instance from classes\n",
    "def singilarity(cropped,c,classes,images):\n",
    "   # images=[]\n",
    "    for (img,C) in zip(cropped,c):\n",
    "        try:\n",
    "            i=classes.index(C)\n",
    "        except:\n",
    "            i=-1\n",
    "        if i<0 :\n",
    "            classes.append(C)\n",
    "            images.append(img)\n",
    "        else :\n",
    "            if len(img)>len(images[i]) :\n",
    "                images[i]=img\n",
    "    print('number of images:',len(images),'number of classes',len(classes))\n",
    "            "
   ]
  },
  {
   "cell_type": "code",
   "execution_count": 7,
   "id": "8727e29e",
   "metadata": {},
   "outputs": [],
   "source": [
    "#cleaning strings\n",
    "def strip_string(my_string):\n",
    "    replacements = [('!', ''), ('?', ''),('|',''),(\"[\",\"\"),(\"]\",\"\"),(\" \",\"\"),('\\\\',\"\"),('\\r',''),('\\'',''),('.',''),('',''),(\"\\u200f\",\"\"),(\"\\u200e\",\"\"),(\"{\",\"\"),(\"}\",\"\"),(\"%\",\"\"),(\"~\",\"\"),(\",\",\".\"),(':','.'),(\";\",\".\"),('°',''),('+',''),('(',''),(')','')]\n",
    "    for char, replacement in replacements:\n",
    "        if char in my_string:\n",
    "            my_string = my_string.replace(char, replacement)\n",
    "    return my_string\n",
    "\n",
    "def prepare(my_string,flag):\n",
    "    tmp=strip_string(my_string)\n",
    "    tmp=tmp.split(\"\\n\")\n",
    "    while(\"\" in tmp):\n",
    "        tmp.remove(\"\")\n",
    "        tmp4=' '.join(tmp)\n",
    "        return (tmp4)\n",
    "    return(\"\".join(tmp))\n",
    "\n",
    "def remove_substring_except_last(string, substring):\n",
    "    # Replace all occurrences of the substring except the last one with an empty string\n",
    "    new_string = string.replace(substring, \"\", string.count(substring)-1)\n",
    "    # Split the string at the last occurrence of the substring\n",
    "    parts = new_string.rsplit(substring, 1)\n",
    "    # Join the parts back together with the substring\n",
    "    return substring.join(parts)\n",
    "\n",
    "def reglage_montant(money):\n",
    "    for i in range(len(money)):\n",
    "        money[i]=remove_substring_except_last(money[i],'.')\n",
    "    return (money)\n",
    "\n",
    "def get_numbers(test_string):\n",
    "    letter = [x for x in test_string]\n",
    "    res = [i for i in letter if (i.isdigit() or i=='.')]\n",
    "    result=''.join(res)\n",
    "    if (len(result)>0):\n",
    "        return result\n",
    "    else:\n",
    "        return (test_string)\n",
    "def containsNumber(value):\n",
    "    for character in value:\n",
    "        if character.isdigit():\n",
    "            return True\n",
    "    return False\n",
    "def number_correction(string):\n",
    "    corrected=[]\n",
    "    replacements = [(\"Q\",\"0\"),(\"p\",\"0\"),(\"q\",\"0\"),(\"d\",\"0\"),(\"o\",\"0\"),(\"O\",\"0\"),('I','1'),('z','2'),('Z','2'),('a','3'),(\" \",\"\"),(\"B\",\"8\")]\n",
    "    X=string.split(\" \")\n",
    "    for i in X:\n",
    "        letters=i\n",
    "        for char, replacement in replacements:\n",
    "            if char in letters:\n",
    "                letters = letters.replace(char, replacement)\n",
    "        corrected.append(letters)\n",
    "    ss=\" \".join(corrected)\n",
    "    return (ss)"
   ]
  },
  {
   "cell_type": "code",
   "execution_count": 8,
   "id": "08398390",
   "metadata": {},
   "outputs": [],
   "source": [
    "#Correcting words with help of dictionnary\n",
    "def find_closest_word(word, dictionary_file):\n",
    "    smallest_distance = float('inf')\n",
    "    closest_word = \"\"\n",
    "\n",
    "    with open(dictionary_file,encoding='utf-8') as f:\n",
    "        words = [line.strip() for line in f]\n",
    "\n",
    "    for dict_word in words:\n",
    "        distance = Levenshtein.distance(word, dict_word)\n",
    "        if distance < smallest_distance:\n",
    "            smallest_distance = distance\n",
    "            closest_word = dict_word\n",
    "\n",
    "    return closest_word"
   ]
  },
  {
   "cell_type": "code",
   "execution_count": 9,
   "id": "b15d3c14",
   "metadata": {},
   "outputs": [],
   "source": [
    "def unique_long(liste):\n",
    "    test=True\n",
    "    count=0\n",
    "    ind=liste.index(max(liste,key=len))\n",
    "    for i in liste:\n",
    "        if len(i)==len(liste[ind]):\n",
    "            count+=1\n",
    "    if count==1:\n",
    "        return ind\n",
    "    else:\n",
    "        return -1"
   ]
  },
  {
   "cell_type": "code",
   "execution_count": 10,
   "id": "7850d317",
   "metadata": {},
   "outputs": [],
   "source": [
    "#Return the best result from three ocr results\n",
    "def best_res(string1,string2,string3,maxi_letters=False):\n",
    "    empty=0\n",
    "    for x in [string1,string2,string3]:\n",
    "        if x =='':\n",
    "            empty+=1\n",
    "        else:\n",
    "            unique=x\n",
    "    if empty==3:\n",
    "        return \"0\";\n",
    "    if empty==2:\n",
    "        return unique\n",
    "    # Define the three OCR strings\n",
    "    flag=False\n",
    "    if (string1==''):\n",
    "        flag=True\n",
    "        #string1='0123456789.-'\n",
    "    if(string2==''):\n",
    "        if (flag==True):\n",
    "            flag=False\n",
    "            string2='0123456789.-'\n",
    "    if(string3==''):\n",
    "        if (flag==True):\n",
    "            flag=False\n",
    "            string3='0123456789.-'\n",
    "    ocr_strings = [string1,string2,string3]\n",
    "    #print('st1:',string1,'st2:',string2,'st3:',string3)\n",
    "    # Calculate the average Levenshtein distance between each OCR string and the other two strings\n",
    "    avg_distances = []\n",
    "    for i in range(len(ocr_strings)):\n",
    "        total_distance = 0\n",
    "        for j in range(len(ocr_strings)):\n",
    "            if i != j:\n",
    "                total_distance += Levenshtein.distance(ocr_strings[i], ocr_strings[j])\n",
    "        avg_distance = total_distance / 2\n",
    "        avg_distances.append(avg_distance)\n",
    "    if(maxi_letters==True):\n",
    "        ind=unique_long(ocr_strings)\n",
    "        if(ind>-1):\n",
    "            avg_distances[ind]=avg_distances[ind]-2\n",
    "\n",
    "    # Determine the most accurate result based on the average distances\n",
    "    #if min(avg_distances) < 4:\n",
    "    index = avg_distances.index(min(avg_distances))\n",
    "    if len(ocr_strings[index])>0:\n",
    "        return (ocr_strings[index])\n",
    "    else:\n",
    "        return('error')\n",
    "    #else:\n",
    "        #return ('not reliable')\n"
   ]
  },
  {
   "cell_type": "code",
   "execution_count": 11,
   "id": "b077b006",
   "metadata": {},
   "outputs": [],
   "source": [
    "def correct_date(date):\n",
    "    parts=date.split('-',1)\n",
    "    year = parts[0]\n",
    "    months = parts[1]\n",
    "    if len(months)>=7:\n",
    "        months=find_closest_word(months,\"D3/dates.txt\")\n",
    "        year=find_closest_word(year,\"D3/dates.txt\")\n",
    "        return (year,months)\n",
    "    else:\n",
    "        for i in [-3,-6,-9]:\n",
    "            if (date[i]!='-'):\n",
    "                date=date[:len(date)-(i+1)]+'-'+date[:len(date)-[i+1]]\n",
    "        correct_date(date)\n",
    "                \n",
    "        "
   ]
  },
  {
   "cell_type": "code",
   "execution_count": 12,
   "id": "228fb241",
   "metadata": {},
   "outputs": [],
   "source": [
    "def easy_oc(image):\n",
    "    results = text_reader.readtext(image )\n",
    "    textt=[]\n",
    "    for (bbox, text, prob) in results:\n",
    "        textt.append(text)\n",
    "    easy_res=''.join(textt)\n",
    "    return easy_res"
   ]
  },
  {
   "cell_type": "code",
   "execution_count": 17,
   "id": "6b9f336a",
   "metadata": {},
   "outputs": [],
   "source": [
    "def perform_ocr(ocr_im,max_letters):\n",
    "    res_keras=[]\n",
    "    corrected=[]\n",
    "    res_tes=[]\n",
    "    tt=cv2.imread(ocr_im)\n",
    "    res_tes=pytesseract.image_to_string(tt,config=config,lang='exp_1')\n",
    "    res_tes=prepare(res_tes,'tab')\n",
    "    res_tes=number_correction(res_tes)\n",
    "    print(res_tes)\n",
    "    res_opus=textract.process(ocr_im,method='ocropus')\n",
    "    res_opus=res_opus.decode(\"utf-8\")\n",
    "    res_opus=prepare(res_opus,'tab')\n",
    "    res_opus=number_correction(res_opus)\n",
    "    res_opus=res_opus.replace(\" \",\"\")\n",
    "    print(res_opus)\n",
    "    res_easy=easy_oc(tt)\n",
    "    res_easy=number_correction(res_easy)\n",
    "    #predictions = pipeline.recognize([tt])\n",
    "    #for prediction in predictions[0]:\n",
    "     #   res_keras.append(prepare(prediction[0],'tab'))\n",
    "    #res_keras=' '.join(res_keras)\n",
    "    #if (check==True):\n",
    "     #   if(\".\" not in res_keras):\n",
    "      #      res_keras=''\n",
    "    print(res_easy)\n",
    "    best=best_res(res_tes,res_opus,res_easy,maxi_letters=max_letters)\n",
    "    best_s=best.split()\n",
    "    return (best_s)"
   ]
  },
  {
   "cell_type": "code",
   "execution_count": 28,
   "id": "afbc26ff",
   "metadata": {},
   "outputs": [
    {
     "data": {
      "text/plain": [
       "(402, 1255)"
      ]
     },
     "execution_count": 28,
     "metadata": {},
     "output_type": "execute_result"
    }
   ],
   "source": [
    "#Loading the image on which we are going to perfom ocr\n",
    "image='D3/ss/4.png'\n",
    "img=cv2.imread(image,0)\n",
    "img.shape"
   ]
  },
  {
   "cell_type": "code",
   "execution_count": 29,
   "id": "5bd0a9c6",
   "metadata": {},
   "outputs": [
    {
     "name": "stderr",
     "output_type": "stream",
     "text": [
      "Ultralytics YOLOv8.0.22  Python-3.9.12 torch-1.13.1 CUDA:0 (NVIDIA GeForce GTX 1650, 4096MiB)\n",
      "Model summary (fused): 168 layers, 11127906 parameters, 0 gradients, 28.4 GFLOPs\n",
      "image 1/1 C:\\Users\\Flam\\Desktop\\Stage WCT\\D3\\ss\\4.png: 224x640 1 code1, 1 code2, 1 consommation, 1 montant, 1 months, 1 nv_index, 0.0ms\n",
      "Speed: 0.0ms pre-process, 0.0ms inference, 0.0ms postprocess per image at shape (1, 3, 640, 640)\n"
     ]
    }
   ],
   "source": [
    "# Load a model\n",
    "cells = YOLO(\"weights/water_v4.pt\")# load the table cells detection model\n",
    "# detecting the 3 main region of interests within the invoice\n",
    "results_tab = cells(image)  # predict on an image"
   ]
  },
  {
   "cell_type": "code",
   "execution_count": 30,
   "id": "708303df",
   "metadata": {},
   "outputs": [
    {
     "name": "stdout",
     "output_type": "stream",
     "text": [
      "fragment  0  : [        377         335         556         379]\n",
      "fragment  1  : [       1156         170        1237         270]\n",
      "fragment  2  : [        219         109         338         147]\n",
      "fragment  3  : [         35         206         328         240]\n",
      "fragment  4  : [        902         116         995         147]\n",
      "fragment  5  : [       1096         118        1235         150]\n",
      "cropped images:  6\n",
      "number of images: 6 number of classes 6\n"
     ]
    }
   ],
   "source": [
    "#Extracting bounding boxes and ROI from the table model\n",
    "x=[]\n",
    "y=[]\n",
    "h=[]\n",
    "w=[]\n",
    "c=[]\n",
    "cropped=[]\n",
    "boxes_labels(results_tab,x,y,h,w,c)\n",
    "cropped=crop_image(x,y,h,w)\n",
    "classes=[]\n",
    "images=[]\n",
    "singilarity(cropped,c,classes,images)\n"
   ]
  },
  {
   "cell_type": "code",
   "execution_count": 31,
   "id": "4474481e",
   "metadata": {},
   "outputs": [],
   "source": [
    "#storing cropped images locally\n",
    "exceptions=[0,0,0,0,0,0]\n",
    "try:\n",
    "    cv2.imwrite('water_frag/c1.jpg', images[classes.index(0)])\n",
    "    cv2.imwrite('water_frag/code1.jpg', enhance('water_frag/c1.jpg'))\n",
    "except:\n",
    "    exceptions[0]=1\n",
    "try:    \n",
    "    cv2.imwrite('water_frag/c2.jpg', images[classes.index(1)])\n",
    "    cv2.imwrite('water_frag/code2.jpg', enhance('water_frag/c2.jpg'))\n",
    "except:\n",
    "    exceptions[1]=1\n",
    "try:\n",
    "    cv2.imwrite('water_frag/con.jpg', images[classes.index(2)])\n",
    "    cv2.imwrite('water_frag/consommation.jpg', enhance('water_frag/con.jpg'))\n",
    "    \n",
    "except:\n",
    "    exceptions[2]=1\n",
    "try:\n",
    "    cv2.imwrite('water_frag/mon.jpg', images[classes.index(3)])\n",
    "    cv2.imwrite('water_frag/montant.jpg', enhance('water_frag/mon.jpg'))\n",
    "except:\n",
    "    exceptions[3]=1\n",
    "\n",
    "try:\n",
    "    cv2.imwrite('water_frag/m.jpg', images[classes.index(4)])\n",
    "    cv2.imwrite('water_frag/month.jpg', enhance('water_frag/m.jpg'))\n",
    "except:\n",
    "    exceptions[4]=1\n",
    "try:\n",
    "    cv2.imwrite('water_frag/in.jpg', images[classes.index(5)])\n",
    "    cv2.imwrite('water_frag/index.jpg', enhance('water_frag/in.jpg'))\n",
    "except:\n",
    "    exceptions[5]=1\n"
   ]
  },
  {
   "cell_type": "code",
   "execution_count": 32,
   "id": "e25341f1",
   "metadata": {},
   "outputs": [
    {
     "data": {
      "text/plain": [
       "[0, 0, 0, 0, 0, 0]"
      ]
     },
     "execution_count": 32,
     "metadata": {},
     "output_type": "execute_result"
    }
   ],
   "source": [
    "exceptions"
   ]
  },
  {
   "cell_type": "code",
   "execution_count": 41,
   "id": "8186a990",
   "metadata": {
    "scrolled": true
   },
   "outputs": [
    {
     "name": "stdout",
     "output_type": "stream",
     "text": [
      "36079530\n",
      "38075f30\n",
      "36079630\n",
      "3607963\n",
      "38079634\n",
      "3607963\n",
      "\n",
      "\n",
      "21\n",
      "562.100\n",
      "\n",
      "52,100\n",
      "042022-11-10-05\n",
      "\n",
      "042022-11-10-09\n",
      "177\n",
      "177\n",
      "177\n"
     ]
    }
   ],
   "source": [
    "if(exceptions[0]==0):\n",
    "    code1=perform_ocr('water_frag/code1.jpg',True)[0]\n",
    "else:\n",
    "    code1=['error']\n",
    "    \n",
    "if(exceptions[1]==0):\n",
    "    code2=perform_ocr('water_frag/code2.jpg',max_letters=False)[0]\n",
    "else:\n",
    "    code2=['0']\n",
    "    \n",
    "if(exceptions[2]==0):\n",
    "    consommation=perform_ocr('water_frag/consommation.jpg',max_letters=True)\n",
    "else:\n",
    "    consommation=['0']\n",
    "    \n",
    "if(exceptions[3]==0):\n",
    "    montant=perform_ocr('water_frag/montant.jpg',False)[0]\n",
    "else:\n",
    "    montant=['error'] \n",
    "    \n",
    "if(exceptions[4]==0):\n",
    "    month=perform_ocr('water_frag/month.jpg',False)[0]\n",
    "else:\n",
    "    month=['error']\n",
    "\n",
    "if(exceptions[5]==0):\n",
    "    index=perform_ocr('water_frag/index.jpg',False)[0]\n",
    "else:\n",
    "    index=['error']\n"
   ]
  },
  {
   "cell_type": "code",
   "execution_count": 43,
   "id": "39314468",
   "metadata": {},
   "outputs": [],
   "source": [
    "first_six = code2[:6]\n",
    "last_two = code1[-2:]\n",
    "code=first_six+last_two\n",
    "montant=get_numbers(montant)\n",
    "t_consommation=[]\n",
    "for i in consommation:\n",
    "    t_consommation.append(get_numbers(consommation))"
   ]
  },
  {
   "cell_type": "code",
   "execution_count": 44,
   "id": "5a4ed166",
   "metadata": {},
   "outputs": [
    {
     "name": "stdout",
     "output_type": "stream",
     "text": [
      "2022\n",
      "11-10-09\n"
     ]
    }
   ],
   "source": [
    "year,months=correct_date(month)\n",
    "print(year)\n",
    "print(months)"
   ]
  },
  {
   "cell_type": "code",
   "execution_count": 45,
   "id": "e0bcbdfe",
   "metadata": {},
   "outputs": [
    {
     "data": {
      "text/plain": [
       "'36079630'"
      ]
     },
     "execution_count": 45,
     "metadata": {},
     "output_type": "execute_result"
    }
   ],
   "source": [
    "code"
   ]
  },
  {
   "cell_type": "code",
   "execution_count": 46,
   "id": "59b58ce5",
   "metadata": {},
   "outputs": [],
   "source": [
    "df = pd.DataFrame()"
   ]
  },
  {
   "cell_type": "code",
   "execution_count": 47,
   "id": "46df8e7a",
   "metadata": {},
   "outputs": [
    {
     "data": {
      "text/html": [
       "<div>\n",
       "<style scoped>\n",
       "    .dataframe tbody tr th:only-of-type {\n",
       "        vertical-align: middle;\n",
       "    }\n",
       "\n",
       "    .dataframe tbody tr th {\n",
       "        vertical-align: top;\n",
       "    }\n",
       "\n",
       "    .dataframe thead th {\n",
       "        text-align: right;\n",
       "    }\n",
       "</style>\n",
       "<table border=\"1\" class=\"dataframe\">\n",
       "  <thead>\n",
       "    <tr style=\"text-align: right;\">\n",
       "      <th></th>\n",
       "      <th>code</th>\n",
       "      <th>nv_index</th>\n",
       "      <th>annee</th>\n",
       "      <th>mois</th>\n",
       "      <th>consommation</th>\n",
       "      <th>montant</th>\n",
       "    </tr>\n",
       "  </thead>\n",
       "  <tbody>\n",
       "    <tr>\n",
       "      <th>0</th>\n",
       "      <td>36079630</td>\n",
       "      <td>177</td>\n",
       "      <td>2022</td>\n",
       "      <td>11-10-09</td>\n",
       "      <td>21</td>\n",
       "      <td>52100</td>\n",
       "    </tr>\n",
       "  </tbody>\n",
       "</table>\n",
       "</div>"
      ],
      "text/plain": [
       "       code nv_index annee      mois consommation montant\n",
       "0  36079630      177  2022  11-10-09           21   52100"
      ]
     },
     "execution_count": 47,
     "metadata": {},
     "output_type": "execute_result"
    }
   ],
   "source": [
    "df['code']=[code]\n",
    "df['nv_index']=[index]\n",
    "df['annee']=[year]\n",
    "df['mois']=[months]\n",
    "df['consommation']=t_consommation\n",
    "df['montant']=[montant]\n",
    "df"
   ]
  },
  {
   "cell_type": "code",
   "execution_count": null,
   "id": "28cab4b0",
   "metadata": {},
   "outputs": [],
   "source": []
  },
  {
   "cell_type": "code",
   "execution_count": null,
   "id": "aab2e9e2",
   "metadata": {},
   "outputs": [],
   "source": []
  },
  {
   "cell_type": "code",
   "execution_count": 93,
   "id": "23c9a3b9",
   "metadata": {},
   "outputs": [
    {
     "data": {
      "text/plain": [
       "-1"
      ]
     },
     "execution_count": 93,
     "metadata": {},
     "output_type": "execute_result"
    }
   ],
   "source": []
  },
  {
   "cell_type": "code",
   "execution_count": 1,
   "id": "dd95907e",
   "metadata": {},
   "outputs": [
    {
     "ename": "NameError",
     "evalue": "name 'cv2' is not defined",
     "output_type": "error",
     "traceback": [
      "\u001b[1;31m---------------------------------------------------------------------------\u001b[0m",
      "\u001b[1;31mNameError\u001b[0m                                 Traceback (most recent call last)",
      "Input \u001b[1;32mIn [1]\u001b[0m, in \u001b[0;36m<cell line: 4>\u001b[1;34m()\u001b[0m\n\u001b[0;32m      2\u001b[0m corrected\u001b[38;5;241m=\u001b[39m[]\n\u001b[0;32m      3\u001b[0m res_tes\u001b[38;5;241m=\u001b[39m[]\n\u001b[1;32m----> 4\u001b[0m tt\u001b[38;5;241m=\u001b[39m\u001b[43mcv2\u001b[49m\u001b[38;5;241m.\u001b[39mimread(\u001b[38;5;124m'\u001b[39m\u001b[38;5;124mD4/frags/consommation.jpg\u001b[39m\u001b[38;5;124m'\u001b[39m)\n\u001b[0;32m      5\u001b[0m res_tes\u001b[38;5;241m=\u001b[39mpytesseract\u001b[38;5;241m.\u001b[39mimage_to_string(tt,config\u001b[38;5;241m=\u001b[39mconfig,lang\u001b[38;5;241m=\u001b[39m\u001b[38;5;124m'\u001b[39m\u001b[38;5;124men\u001b[39m\u001b[38;5;124m'\u001b[39m)\n\u001b[0;32m      6\u001b[0m res_tes\u001b[38;5;241m=\u001b[39mprepare(res_tes,\u001b[38;5;124m'\u001b[39m\u001b[38;5;124mtab\u001b[39m\u001b[38;5;124m'\u001b[39m)\n",
      "\u001b[1;31mNameError\u001b[0m: name 'cv2' is not defined"
     ]
    }
   ],
   "source": [
    "res_keras=[]\n",
    "corrected=[]\n",
    "res_tes=[]\n",
    "tt=cv2.imread('D4/frags/consommation.jpg')\n",
    "res_tes=pytesseract.image_to_string(tt,config=config,lang='en')\n",
    "res_tes=prepare(res_tes,'tab')\n",
    "res_tes=number_correction(res_tes)\n",
    "print(res_tes)\n",
    "res_opus=textract.process('D4/frags/consommation.jpg',method='ocropus')\n",
    "res_opus=res_opus.decode(\"utf-8\")\n",
    "res_opus=prepare(res_opus,'tab')\n",
    "print(res_opus)\n",
    "res_opus=number_correction(res_opus)\n",
    "res_opus=res_opus.replace(\" \",\"\")\n",
    "print(res_opus)\n",
    "predictions = pipeline.recognize([tt])\n",
    "for prediction in predictions[0]:\n",
    "    res_keras.append(prepare(prediction[0],'tab'))\n",
    "res_keras=' '.join(res_keras)\n",
    "print(res_keras)"
   ]
  },
  {
   "cell_type": "code",
   "execution_count": 210,
   "id": "0e9d53b3",
   "metadata": {},
   "outputs": [
    {
     "data": {
      "text/plain": [
       "'36051 185.'"
      ]
     },
     "execution_count": 210,
     "metadata": {},
     "output_type": "execute_result"
    }
   ],
   "source": [
    "res_opus"
   ]
  },
  {
   "cell_type": "code",
   "execution_count": 29,
   "id": "08b52da4",
   "metadata": {},
   "outputs": [],
   "source": []
  },
  {
   "cell_type": "code",
   "execution_count": 84,
   "id": "ad5cbaf8",
   "metadata": {},
   "outputs": [
    {
     "data": {
      "text/plain": [
       "True"
      ]
     },
     "execution_count": 84,
     "metadata": {},
     "output_type": "execute_result"
    }
   ],
   "source": [
    "#imsg=thick_font(imss)\n",
    "#imsg=thin_font(imsg)\n",
    "thresh1 = cv2.threshold(imss,155,255,cv2.THRESH_BINARY)[1]\n",
    "ssx=noise_removal(thresh1)\n",
    "cv2.imshow('enh',ssx)\n",
    "cv2.waitKey(0)\n",
    "cv2.imwrite('water_frag/enh.png',thresh1)"
   ]
  },
  {
   "cell_type": "code",
   "execution_count": 35,
   "id": "113dd5cc",
   "metadata": {},
   "outputs": [],
   "source": [
    "\n"
   ]
  },
  {
   "cell_type": "code",
   "execution_count": 39,
   "id": "c3505d3f",
   "metadata": {},
   "outputs": [
    {
     "name": "stdout",
     "output_type": "stream",
     "text": [
      "['0d6', '0d6']\n",
      "0d60d6\n"
     ]
    },
    {
     "data": {
      "image/png": "[encoded data removed]",
      "text/plain": [
       "<Figure size 432x288 with 1 Axes>"
      ]
     },
     "metadata": {
      "needs_background": "light"
     },
     "output_type": "display_data"
    }
   ],
   "source": [
    "imss=cv2.imread(\"month.jpg\")\n",
    "results = text_reader.readtext(imss )\n",
    "textt=[]\n",
    "for (bbox, text, prob) in results:\n",
    "    textt.append(text)\n",
    "easy_res=''.join(textt)\n",
    "print(textt)\n",
    "print(easy_res)\n",
    "plt.imshow(imss)\n",
    "plt.title(\"First Image\");"
   ]
  },
  {
   "cell_type": "code",
   "execution_count": 211,
   "id": "b601801a",
   "metadata": {},
   "outputs": [],
   "source": [
    "36095p14"
   ]
  },
  {
   "cell_type": "code",
   "execution_count": 148,
   "id": "aa64314c",
   "metadata": {},
   "outputs": [
    {
     "data": {
      "text/plain": [
       "True"
      ]
     },
     "execution_count": 148,
     "metadata": {},
     "output_type": "execute_result"
    }
   ],
   "source": [
    "imss=cv2.imread(\"D3/ss/water_bill.jpg\")\n",
    "result = bw_scanner(imss)\n",
    "cv2.imwrite(\"bbw.jpg\",result)"
   ]
  },
  {
   "cell_type": "code",
   "execution_count": 147,
   "id": "43d85684",
   "metadata": {},
   "outputs": [
    {
     "data": {
      "text/plain": [
       "-1"
      ]
     },
     "execution_count": 147,
     "metadata": {},
     "output_type": "execute_result"
    }
   ],
   "source": [
    "cv2.imshow('ss',result)\n",
    "cv2.waitKey(0)"
   ]
  },
  {
   "cell_type": "code",
   "execution_count": 91,
   "id": "b3fc60c6",
   "metadata": {},
   "outputs": [
    {
     "name": "stdout",
     "output_type": "stream",
     "text": [
      "[6.5, 8.0, 5.5]\n",
      "maxed letters\n",
      "indexe : 0\n",
      "3803501\n",
      "[6.5, 8.0, 5.5]\n"
     ]
    }
   ],
   "source": [
    "ocr_strings = [\"360950171\",\"\",\"3803501\"]\n",
    "#print('st1:',string1,'st2:',string2,'st3:',string3)\n",
    "# Calculate the average Levenshtein distance between each OCR string and the other two strings\n",
    "avg_distances = []\n",
    "for i in range(len(ocr_strings)):\n",
    "    total_distance = 0\n",
    "    for j in range(len(ocr_strings)):\n",
    "        if i != j:\n",
    "            total_distance += Levenshtein.distance(ocr_strings[i], ocr_strings[j])\n",
    "    avg_distance = total_distance / 2\n",
    "    avg_distances.append(avg_distance)\n",
    "print(avg_distances)\n",
    "#if(maxi_letters==True):\n",
    "print('maxed letters')\n",
    "ind=unique_long(ocr_strings)\n",
    "print(\"indexe :\",ind)\n",
    "if(ind):\n",
    "    avg_distances[ind]=avg_distances[ind]-2\n",
    "\n",
    "# Determine the most accurate result based on the average distances\n",
    "#if min(avg_distances) < 4:\n",
    "index = avg_distances.index(min(avg_distances))\n",
    "print(ocr_strings[index])\n",
    "print(avg_distances)"
   ]
  },
  {
   "cell_type": "code",
   "execution_count": 65,
   "id": "ebd829e4",
   "metadata": {},
   "outputs": [],
   "source": []
  },
  {
   "cell_type": "code",
   "execution_count": 64,
   "id": "e3ea9ed9",
   "metadata": {},
   "outputs": [],
   "source": []
  },
  {
   "cell_type": "code",
   "execution_count": null,
   "id": "1baf00ef",
   "metadata": {},
   "outputs": [],
   "source": []
  }
 ],
 "metadata": {
  "kernelspec": {
   "display_name": "Python 3 (ipykernel)",
   "language": "python",
   "name": "python3"
  },
  "language_info": {
   "codemirror_mode": {
    "name": "ipython",
    "version": 3
   },
   "file_extension": ".py",
   "mimetype": "text/x-python",
   "name": "python",
   "nbconvert_exporter": "python",
   "pygments_lexer": "ipython3",
   "version": "3.9.12"
  }
 },
 "nbformat": 4,
 "nbformat_minor": 5
}
